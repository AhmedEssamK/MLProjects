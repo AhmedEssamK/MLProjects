{
  "nbformat": 4,
  "nbformat_minor": 0,
  "metadata": {
    "colab": {
      "provenance": [],
      "authorship_tag": "ABX9TyPIl3Wey3/tdROcQ6JxWTEU",
      "include_colab_link": true
    },
    "kernelspec": {
      "name": "python3",
      "display_name": "Python 3"
    },
    "language_info": {
      "name": "python"
    }
  },
  "cells": [
    {
      "cell_type": "markdown",
      "metadata": {
        "id": "view-in-github",
        "colab_type": "text"
      },
      "source": [
        "<a href=\"https://colab.research.google.com/github/AhmedEssamK/MLProjects/blob/main/Intelligent_Cloud_Bursting_Model.ipynb\" target=\"_parent\"><img src=\"https://colab.research.google.com/assets/colab-badge.svg\" alt=\"Open In Colab\"/></a>"
      ]
    },
    {
      "cell_type": "code",
      "source": [
        "import random\n",
        "from sklearn.tree import DecisionTreeClassifier\n",
        "\n",
        "# Define workload thresholds for bursting\n",
        "burst_threshold_1 = 200\n",
        "burst_threshold_2 = 500\n",
        "\n",
        "# Define cloud provider parameters\n",
        "provider_a_cost = 0.5\n",
        "provider_a_capacity = 1000\n",
        "provider_a_rate = 10\n",
        "\n",
        "provider_b_cost = 0.7\n",
        "provider_b_capacity = 2000\n",
        "provider_b_rate = 8\n",
        "\n",
        "provider_c_cost = 0.6\n",
        "provider_c_capacity = 1500\n",
        "provider_c_rate = 12\n",
        "\n",
        "# Define function to generate workload\n",
        "def generate_workload():\n",
        "    # Generate workload randomly\n",
        "    workload = random.randint(0, 1000)\n",
        "    return workload\n",
        "\n",
        "# Define function to calculate cost for a given provider and workload\n",
        "def calculate_cost(provider, workload):\n",
        "    if provider == 'A':\n",
        "        if workload <= provider_a_capacity:\n",
        "            cost = provider_a_cost\n",
        "        else:\n",
        "            cost = provider_a_cost + ((workload - provider_a_capacity) / provider_a_rate)\n",
        "    elif provider == 'B':\n",
        "        if workload <= provider_b_capacity:\n",
        "            cost = provider_b_cost\n",
        "        else:\n",
        "            cost = provider_b_cost + ((workload - provider_b_capacity) / provider_b_rate)\n",
        "    else:\n",
        "        if workload <= provider_c_capacity:\n",
        "            cost = provider_c_cost\n",
        "        else:\n",
        "            cost = provider_c_cost + ((workload - provider_c_capacity) / provider_c_rate)\n",
        "    return cost\n",
        "\n",
        "# Train decision tree model on historical data\n",
        "X_train = []\n",
        "y_train = []\n",
        "for i in range(2000):\n",
        "    # Generate random workload and cost for each provider\n",
        "    workload = generate_workload()\n",
        "    provider_a_cost = calculate_cost('A', workload)\n",
        "    provider_b_cost = calculate_cost('B', workload)\n",
        "    provider_c_cost = calculate_cost('C', workload)\n",
        "\n",
        "    # Determine optimal cloud provider and cost\n",
        "    if workload <= burst_threshold_1:\n",
        "        decision = 'No Bursting'\n",
        "    elif workload <= burst_threshold_2:\n",
        "        # Calculate cost for all providers\n",
        "        provider_a_cost = calculate_cost('A', workload)\n",
        "        provider_b_cost = calculate_cost('B', workload)\n",
        "        provider_c_cost = calculate_cost('C', workload)\n",
        "\n",
        "        # Determine optimal provider based on cost\n",
        "        if provider_a_cost < provider_b_cost and provider_a_cost < provider_c_cost:\n",
        "            optimal_provider = 'A'\n",
        "            optimal_cost = provider_a_cost\n",
        "        elif provider_b_cost < provider_c_cost:\n",
        "            optimal_provider = 'B'\n",
        "            optimal_cost = provider_b_cost\n",
        "        else:\n",
        "            optimal_provider = 'C'\n",
        "            optimal_cost = provider_c_cost\n",
        "\n",
        "        # Determine if bursting is necessary\n",
        "        if optimal_cost < provider_c_cost:\n",
        "            decision = 'Burst to ' + optimal_provider\n",
        "        else:\n",
        "            decision = 'Burst to C'\n",
        "    else:\n",
        "        decision = 'Burst to C'\n",
        "\n",
        "    # Append data to training set\n",
        "    X_train.append([workload, provider_a_cost, provider_b_cost, provider_c_cost])\n",
        "    y_train.append(decision)\n",
        "\n",
        "# Train decision tree model\n",
        "model = DecisionTreeClassifier()\n",
        "model.fit(X_train, y_train)\n",
        "\n",
        "# Generate new workload and predict optimal decision\n",
        "workload = generate_workload()\n",
        "provider_a_cost = calculate_cost('A', workload)\n",
        "provider_b_cost = calculate_cost('B', workload)\n",
        "provider_c_cost = calculate_cost('C', workload)\n",
        "X_test = [[workload, provider_a_cost, provider_b_cost, provider_c_cost]]\n",
        "prediction = model.predict(X_test)[0]\n",
        "\n",
        "# Print output\n",
        "print(f\"Workload: {workload}\")\n",
        "print(f\"Provider A Cost: {provider_a_cost}\")\n",
        "print(f\"Provider B Cost: {provider_b_cost}\")\n",
        "print(f\"Provider C Cost: {provider_c_cost}\")\n",
        "print(f\"Optimal decision: {prediction}\")\n"
      ],
      "metadata": {
        "colab": {
          "base_uri": "https://localhost:8080/"
        },
        "id": "P-Jl0vKe9cnD",
        "outputId": "7dc256dd-bf09-4834-8db7-fd0508e465a1"
      },
      "execution_count": null,
      "outputs": [
        {
          "output_type": "stream",
          "name": "stdout",
          "text": [
            "Workload: 539\n",
            "Provider A Score: 0.0\n",
            "Provider B Score: 0.002100000000000001\n",
            "Provider C Score: 0.0018000000000000032\n",
            "Optimal decision: Burst to C\n"
          ]
        }
      ]
    }
  ]
}